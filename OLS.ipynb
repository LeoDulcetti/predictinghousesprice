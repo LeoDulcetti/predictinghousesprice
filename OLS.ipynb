{
  "cells": [
    {
      "cell_type": "code",
      "execution_count": 17,
      "metadata": {
        "id": "jRUBmnGJgZPk"
      },
      "outputs": [],
      "source": [
        "import pandas as pd\n",
        "import numpy as np"
      ]
    },
    {
      "cell_type": "code",
      "execution_count": 18,
      "metadata": {
        "id": "VELH01BvgqnT"
      },
      "outputs": [],
      "source": [
        "data = pd.read_excel(\"houses_for_rent_madrid.xlsx\")"
      ]
    },
    {
      "cell_type": "markdown",
      "metadata": {},
      "source": [
        "## Explanatory Analysis"
      ]
    },
    {
      "cell_type": "code",
      "execution_count": 19,
      "metadata": {
        "colab": {
          "base_uri": "https://localhost:8080/"
        },
        "id": "x-7dBXFbgxd9",
        "outputId": "00281d7f-62eb-4cf5-ffb7-d450c6becf97"
      },
      "outputs": [
        {
          "data": {
            "text/plain": [
              "Id                int64\n",
              "District         object\n",
              "Address          object\n",
              "Number           object\n",
              "Area             object\n",
              "Rent              int64\n",
              "Bedrooms        float64\n",
              "Sq.Mt             int64\n",
              "Floor           float64\n",
              "Outer           float64\n",
              "Elevator        float64\n",
              "Penthouse         int64\n",
              "Cottage           int64\n",
              "Duplex            int64\n",
              "Semidetached      int64\n",
              "dtype: object"
            ]
          },
          "execution_count": 19,
          "metadata": {},
          "output_type": "execute_result"
        }
      ],
      "source": [
        "data.dtypes"
      ]
    },
    {
      "cell_type": "code",
      "execution_count": 20,
      "metadata": {
        "id": "PSkvDhOzg5Jp"
      },
      "outputs": [
        {
          "data": {
            "text/html": [
              "<div>\n",
              "<style scoped>\n",
              "    .dataframe tbody tr th:only-of-type {\n",
              "        vertical-align: middle;\n",
              "    }\n",
              "\n",
              "    .dataframe tbody tr th {\n",
              "        vertical-align: top;\n",
              "    }\n",
              "\n",
              "    .dataframe thead th {\n",
              "        text-align: right;\n",
              "    }\n",
              "</style>\n",
              "<table border=\"1\" class=\"dataframe\">\n",
              "  <thead>\n",
              "    <tr style=\"text-align: right;\">\n",
              "      <th></th>\n",
              "      <th>Id</th>\n",
              "      <th>District</th>\n",
              "      <th>Address</th>\n",
              "      <th>Number</th>\n",
              "      <th>Area</th>\n",
              "      <th>Rent</th>\n",
              "      <th>Bedrooms</th>\n",
              "      <th>Sq.Mt</th>\n",
              "      <th>Floor</th>\n",
              "      <th>Outer</th>\n",
              "      <th>Elevator</th>\n",
              "      <th>Penthouse</th>\n",
              "      <th>Cottage</th>\n",
              "      <th>Duplex</th>\n",
              "      <th>Semidetached</th>\n",
              "    </tr>\n",
              "  </thead>\n",
              "  <tbody>\n",
              "    <tr>\n",
              "      <th>count</th>\n",
              "      <td>2089.000000</td>\n",
              "      <td>2089</td>\n",
              "      <td>2089</td>\n",
              "      <td>747</td>\n",
              "      <td>2085</td>\n",
              "      <td>2089.000000</td>\n",
              "      <td>2000.000000</td>\n",
              "      <td>2089.000000</td>\n",
              "      <td>1948.000000</td>\n",
              "      <td>1927.000000</td>\n",
              "      <td>1956.000000</td>\n",
              "      <td>2089.000000</td>\n",
              "      <td>2089.000000</td>\n",
              "      <td>2089.000000</td>\n",
              "      <td>2089.000000</td>\n",
              "    </tr>\n",
              "    <tr>\n",
              "      <th>unique</th>\n",
              "      <td>NaN</td>\n",
              "      <td>20</td>\n",
              "      <td>1336</td>\n",
              "      <td>137</td>\n",
              "      <td>140</td>\n",
              "      <td>NaN</td>\n",
              "      <td>NaN</td>\n",
              "      <td>NaN</td>\n",
              "      <td>NaN</td>\n",
              "      <td>NaN</td>\n",
              "      <td>NaN</td>\n",
              "      <td>NaN</td>\n",
              "      <td>NaN</td>\n",
              "      <td>NaN</td>\n",
              "      <td>NaN</td>\n",
              "    </tr>\n",
              "    <tr>\n",
              "      <th>top</th>\n",
              "      <td>NaN</td>\n",
              "      <td>Salamanca</td>\n",
              "      <td>Piso en Recoletos</td>\n",
              "      <td>1</td>\n",
              "      <td>Recoletos</td>\n",
              "      <td>NaN</td>\n",
              "      <td>NaN</td>\n",
              "      <td>NaN</td>\n",
              "      <td>NaN</td>\n",
              "      <td>NaN</td>\n",
              "      <td>NaN</td>\n",
              "      <td>NaN</td>\n",
              "      <td>NaN</td>\n",
              "      <td>NaN</td>\n",
              "      <td>NaN</td>\n",
              "    </tr>\n",
              "    <tr>\n",
              "      <th>freq</th>\n",
              "      <td>NaN</td>\n",
              "      <td>313</td>\n",
              "      <td>25</td>\n",
              "      <td>29</td>\n",
              "      <td>93</td>\n",
              "      <td>NaN</td>\n",
              "      <td>NaN</td>\n",
              "      <td>NaN</td>\n",
              "      <td>NaN</td>\n",
              "      <td>NaN</td>\n",
              "      <td>NaN</td>\n",
              "      <td>NaN</td>\n",
              "      <td>NaN</td>\n",
              "      <td>NaN</td>\n",
              "      <td>NaN</td>\n",
              "    </tr>\n",
              "    <tr>\n",
              "      <th>mean</th>\n",
              "      <td>1094.026807</td>\n",
              "      <td>NaN</td>\n",
              "      <td>NaN</td>\n",
              "      <td>NaN</td>\n",
              "      <td>NaN</td>\n",
              "      <td>1932.249402</td>\n",
              "      <td>2.483000</td>\n",
              "      <td>128.919579</td>\n",
              "      <td>25.662731</td>\n",
              "      <td>0.867151</td>\n",
              "      <td>0.880879</td>\n",
              "      <td>0.080900</td>\n",
              "      <td>0.042125</td>\n",
              "      <td>0.030637</td>\n",
              "      <td>0.013404</td>\n",
              "    </tr>\n",
              "    <tr>\n",
              "      <th>std</th>\n",
              "      <td>630.612544</td>\n",
              "      <td>NaN</td>\n",
              "      <td>NaN</td>\n",
              "      <td>NaN</td>\n",
              "      <td>NaN</td>\n",
              "      <td>1495.474485</td>\n",
              "      <td>1.305206</td>\n",
              "      <td>115.745014</td>\n",
              "      <td>975.065350</td>\n",
              "      <td>0.339500</td>\n",
              "      <td>0.324013</td>\n",
              "      <td>0.272747</td>\n",
              "      <td>0.200923</td>\n",
              "      <td>0.172373</td>\n",
              "      <td>0.115023</td>\n",
              "    </tr>\n",
              "    <tr>\n",
              "      <th>min</th>\n",
              "      <td>1.000000</td>\n",
              "      <td>NaN</td>\n",
              "      <td>NaN</td>\n",
              "      <td>NaN</td>\n",
              "      <td>NaN</td>\n",
              "      <td>450.000000</td>\n",
              "      <td>0.000000</td>\n",
              "      <td>15.000000</td>\n",
              "      <td>-1.000000</td>\n",
              "      <td>0.000000</td>\n",
              "      <td>0.000000</td>\n",
              "      <td>0.000000</td>\n",
              "      <td>0.000000</td>\n",
              "      <td>0.000000</td>\n",
              "      <td>0.000000</td>\n",
              "    </tr>\n",
              "    <tr>\n",
              "      <th>25%</th>\n",
              "      <td>550.000000</td>\n",
              "      <td>NaN</td>\n",
              "      <td>NaN</td>\n",
              "      <td>NaN</td>\n",
              "      <td>NaN</td>\n",
              "      <td>950.000000</td>\n",
              "      <td>2.000000</td>\n",
              "      <td>65.000000</td>\n",
              "      <td>2.000000</td>\n",
              "      <td>1.000000</td>\n",
              "      <td>1.000000</td>\n",
              "      <td>0.000000</td>\n",
              "      <td>0.000000</td>\n",
              "      <td>0.000000</td>\n",
              "      <td>0.000000</td>\n",
              "    </tr>\n",
              "    <tr>\n",
              "      <th>50%</th>\n",
              "      <td>1094.000000</td>\n",
              "      <td>NaN</td>\n",
              "      <td>NaN</td>\n",
              "      <td>NaN</td>\n",
              "      <td>NaN</td>\n",
              "      <td>1400.000000</td>\n",
              "      <td>2.000000</td>\n",
              "      <td>90.000000</td>\n",
              "      <td>3.000000</td>\n",
              "      <td>1.000000</td>\n",
              "      <td>1.000000</td>\n",
              "      <td>0.000000</td>\n",
              "      <td>0.000000</td>\n",
              "      <td>0.000000</td>\n",
              "      <td>0.000000</td>\n",
              "    </tr>\n",
              "    <tr>\n",
              "      <th>75%</th>\n",
              "      <td>1636.000000</td>\n",
              "      <td>NaN</td>\n",
              "      <td>NaN</td>\n",
              "      <td>NaN</td>\n",
              "      <td>NaN</td>\n",
              "      <td>2500.000000</td>\n",
              "      <td>3.000000</td>\n",
              "      <td>147.000000</td>\n",
              "      <td>5.000000</td>\n",
              "      <td>1.000000</td>\n",
              "      <td>1.000000</td>\n",
              "      <td>0.000000</td>\n",
              "      <td>0.000000</td>\n",
              "      <td>0.000000</td>\n",
              "      <td>0.000000</td>\n",
              "    </tr>\n",
              "    <tr>\n",
              "      <th>max</th>\n",
              "      <td>2188.000000</td>\n",
              "      <td>NaN</td>\n",
              "      <td>NaN</td>\n",
              "      <td>NaN</td>\n",
              "      <td>NaN</td>\n",
              "      <td>16000.000000</td>\n",
              "      <td>8.000000</td>\n",
              "      <td>1250.000000</td>\n",
              "      <td>43039.000000</td>\n",
              "      <td>1.000000</td>\n",
              "      <td>1.000000</td>\n",
              "      <td>1.000000</td>\n",
              "      <td>1.000000</td>\n",
              "      <td>1.000000</td>\n",
              "      <td>1.000000</td>\n",
              "    </tr>\n",
              "  </tbody>\n",
              "</table>\n",
              "</div>"
            ],
            "text/plain": [
              "                 Id   District            Address Number       Area  \\\n",
              "count   2089.000000       2089               2089    747       2085   \n",
              "unique          NaN         20               1336    137        140   \n",
              "top             NaN  Salamanca  Piso en Recoletos      1  Recoletos   \n",
              "freq            NaN        313                 25     29         93   \n",
              "mean    1094.026807        NaN                NaN    NaN        NaN   \n",
              "std      630.612544        NaN                NaN    NaN        NaN   \n",
              "min        1.000000        NaN                NaN    NaN        NaN   \n",
              "25%      550.000000        NaN                NaN    NaN        NaN   \n",
              "50%     1094.000000        NaN                NaN    NaN        NaN   \n",
              "75%     1636.000000        NaN                NaN    NaN        NaN   \n",
              "max     2188.000000        NaN                NaN    NaN        NaN   \n",
              "\n",
              "                Rent     Bedrooms        Sq.Mt         Floor        Outer  \\\n",
              "count    2089.000000  2000.000000  2089.000000   1948.000000  1927.000000   \n",
              "unique           NaN          NaN          NaN           NaN          NaN   \n",
              "top              NaN          NaN          NaN           NaN          NaN   \n",
              "freq             NaN          NaN          NaN           NaN          NaN   \n",
              "mean     1932.249402     2.483000   128.919579     25.662731     0.867151   \n",
              "std      1495.474485     1.305206   115.745014    975.065350     0.339500   \n",
              "min       450.000000     0.000000    15.000000     -1.000000     0.000000   \n",
              "25%       950.000000     2.000000    65.000000      2.000000     1.000000   \n",
              "50%      1400.000000     2.000000    90.000000      3.000000     1.000000   \n",
              "75%      2500.000000     3.000000   147.000000      5.000000     1.000000   \n",
              "max     16000.000000     8.000000  1250.000000  43039.000000     1.000000   \n",
              "\n",
              "           Elevator    Penthouse      Cottage       Duplex  Semidetached  \n",
              "count   1956.000000  2089.000000  2089.000000  2089.000000   2089.000000  \n",
              "unique          NaN          NaN          NaN          NaN           NaN  \n",
              "top             NaN          NaN          NaN          NaN           NaN  \n",
              "freq            NaN          NaN          NaN          NaN           NaN  \n",
              "mean       0.880879     0.080900     0.042125     0.030637      0.013404  \n",
              "std        0.324013     0.272747     0.200923     0.172373      0.115023  \n",
              "min        0.000000     0.000000     0.000000     0.000000      0.000000  \n",
              "25%        1.000000     0.000000     0.000000     0.000000      0.000000  \n",
              "50%        1.000000     0.000000     0.000000     0.000000      0.000000  \n",
              "75%        1.000000     0.000000     0.000000     0.000000      0.000000  \n",
              "max        1.000000     1.000000     1.000000     1.000000      1.000000  "
            ]
          },
          "execution_count": 20,
          "metadata": {},
          "output_type": "execute_result"
        }
      ],
      "source": [
        "data.describe(include='all')"
      ]
    },
    {
      "cell_type": "code",
      "execution_count": 21,
      "metadata": {
        "id": "i6NLa-A4hRDM"
      },
      "outputs": [
        {
          "data": {
            "text/plain": [
              "(2089, 15)"
            ]
          },
          "execution_count": 21,
          "metadata": {},
          "output_type": "execute_result"
        }
      ],
      "source": [
        "data.shape"
      ]
    },
    {
      "cell_type": "markdown",
      "metadata": {
        "id": "IRuy7YuVQNQ-"
      },
      "source": [
        "## Part 1: Remove columns \"Id\", \"District\", \"Address\", \"Number\""
      ]
    },
    {
      "cell_type": "code",
      "execution_count": 22,
      "metadata": {
        "id": "4BRR36Lj4X7u"
      },
      "outputs": [],
      "source": [
        "data1=data.drop(columns=['Id','District','Address','Number'])"
      ]
    },
    {
      "cell_type": "markdown",
      "metadata": {
        "id": "Ha4eutkuTptX"
      },
      "source": [
        "## Part 2: Imputate missing \"Bedrooms\", \"Floors\" and \"Sq.Mt\""
      ]
    },
    {
      "cell_type": "code",
      "execution_count": 23,
      "metadata": {
        "id": "a1sSvRfx4iJ8"
      },
      "outputs": [],
      "source": [
        "data1['Floor'].fillna(data1['Floor'].mean(),inplace=True)\n",
        "data1['Bedrooms'].fillna(data1['Bedrooms'].mean(),inplace=True)\n",
        "data1['Sq.Mt'].fillna(data1['Sq.Mt'].mean(),inplace=True)"
      ]
    },
    {
      "cell_type": "markdown",
      "metadata": {
        "id": "3gMLFPUQVM6W"
      },
      "source": [
        "## Part 3: Remove all rows with a missing value.\n",
        "(Note: \"Bedrooms\", \"Floor\" and \"Area\" should not have missing value because of the imputation in the last part)."
      ]
    },
    {
      "cell_type": "code",
      "execution_count": 24,
      "metadata": {
        "id": "Xet2_aZt4jeb"
      },
      "outputs": [
        {
          "data": {
            "text/plain": [
              "Area            0\n",
              "Rent            0\n",
              "Bedrooms        0\n",
              "Sq.Mt           0\n",
              "Floor           0\n",
              "Outer           0\n",
              "Elevator        0\n",
              "Penthouse       0\n",
              "Cottage         0\n",
              "Duplex          0\n",
              "Semidetached    0\n",
              "dtype: int64"
            ]
          },
          "execution_count": 24,
          "metadata": {},
          "output_type": "execute_result"
        }
      ],
      "source": [
        "# Replacing alternative representations with NaN\n",
        "data1.replace(['None', 'NA', 'NaN', ''], pd.NA, inplace=True)\n",
        "data1.dropna(axis=0, inplace=True)\n",
        "data1.isna().sum()"
      ]
    },
    {
      "cell_type": "markdown",
      "metadata": {
        "id": "yiRNP54wcepF"
      },
      "source": [
        "## Part 4: Plot a histogram of Bedrooms, Floor and Sq.Mt"
      ]
    },
    {
      "cell_type": "code",
      "execution_count": 25,
      "metadata": {
        "id": "RozepM0E4k2t"
      },
      "outputs": [
        {
          "data": {
            "text/plain": [
              "(array([ 14., 443., 660., 484.,   0., 226.,  75.,   9.,   2.,   4.]),\n",
              " array([0. , 0.8, 1.6, 2.4, 3.2, 4. , 4.8, 5.6, 6.4, 7.2, 8. ]),\n",
              " <BarContainer object of 10 artists>)"
            ]
          },
          "execution_count": 25,
          "metadata": {},
          "output_type": "execute_result"
        },
        {
          "data": {
            "image/png": "[encoded data removed]",
            "text/plain": [
              "<Figure size 640x480 with 1 Axes>"
            ]
          },
          "metadata": {},
          "output_type": "display_data"
        }
      ],
      "source": [
        "# Your code here\n",
        "import matplotlib.pyplot as plt\n",
        "plt.hist(data1['Bedrooms'])"
      ]
    },
    {
      "cell_type": "code",
      "execution_count": 26,
      "metadata": {},
      "outputs": [
        {
          "data": {
            "text/plain": [
              "(array([451., 912., 398.,  92.,  26.,  10.,   5.,   1.,  19.,   3.]),\n",
              " array([-1.,  2.,  5.,  8., 11., 14., 17., 20., 23., 26., 29.]),\n",
              " <BarContainer object of 10 artists>)"
            ]
          },
          "execution_count": 26,
          "metadata": {},
          "output_type": "execute_result"
        },
        {
          "data": {
            "image/png": "[encoded data removed]",
            "text/plain": [
              "<Figure size 640x480 with 1 Axes>"
            ]
          },
          "metadata": {},
          "output_type": "display_data"
        }
      ],
      "source": [
        "plt.hist(data1['Floor'])"
      ]
    },
    {
      "cell_type": "code",
      "execution_count": 27,
      "metadata": {},
      "outputs": [
        {
          "data": {
            "text/plain": [
              "(array([1.477e+03, 3.410e+02, 6.400e+01, 2.900e+01, 5.000e+00, 0.000e+00,\n",
              "        0.000e+00, 0.000e+00, 0.000e+00, 1.000e+00]),\n",
              " array([  20.,  143.,  266.,  389.,  512.,  635.,  758.,  881., 1004.,\n",
              "        1127., 1250.]),\n",
              " <BarContainer object of 10 artists>)"
            ]
          },
          "execution_count": 27,
          "metadata": {},
          "output_type": "execute_result"
        },
        {
          "data": {
            "image/png": "[encoded data removed]",
            "text/plain": [
              "<Figure size 640x480 with 1 Axes>"
            ]
          },
          "metadata": {},
          "output_type": "display_data"
        }
      ],
      "source": [
        "plt.hist(data1['Sq.Mt'])"
      ]
    },
    {
      "cell_type": "markdown",
      "metadata": {
        "id": "oMCffPlKdAKN"
      },
      "source": [
        "## Part 5: Remove all rows with Floor>20"
      ]
    },
    {
      "cell_type": "code",
      "execution_count": 28,
      "metadata": {
        "id": "OkSFncWh4nLg"
      },
      "outputs": [],
      "source": [
        "data1=data1[data1['Floor']<=20]"
      ]
    },
    {
      "cell_type": "code",
      "execution_count": 29,
      "metadata": {},
      "outputs": [
        {
          "data": {
            "text/plain": [
              "(1895, 11)"
            ]
          },
          "execution_count": 29,
          "metadata": {},
          "output_type": "execute_result"
        }
      ],
      "source": [
        "data1.shape"
      ]
    },
    {
      "cell_type": "markdown",
      "metadata": {
        "id": "1FPMz0gKVhZa"
      },
      "source": [
        "## Part 6: Split data to train (70%) and val (15%) and test (15%)\n"
      ]
    },
    {
      "cell_type": "code",
      "execution_count": 30,
      "metadata": {
        "id": "Y1Ykkcj04pP1"
      },
      "outputs": [],
      "source": [
        "from sklearn.model_selection import train_test_split\n",
        "train, test = train_test_split(data1, test_size=0.3)\n",
        "test, val=train_test_split(test, test_size=0.5)"
      ]
    },
    {
      "cell_type": "markdown",
      "metadata": {
        "id": "WFFVYMShVu9o"
      },
      "source": [
        "## Part 7: Impact encode \"Area\" with respect to target variable (\"Rent\"), replacing the original column with the encoded column.\n",
        "\n",
        "Note that the encoding is computed only using the training set, but must be applied to the val and test set as well.  If the val/test set contain rows with \"Area\" that was not observed in the training, then the encoding cannot be computed for those rows, and they should be removed."
      ]
    },
    {
      "cell_type": "code",
      "execution_count": 31,
      "metadata": {
        "id": "6e07HJ5AfkG9"
      },
      "outputs": [],
      "source": [
        "area_means = train.groupby('Area')['Rent'].mean()\n",
        "for dataset in [train, val, test]:\n",
        "    dataset['Area_encoded'] = dataset['Area'].map(area_means)\n",
        "\n",
        "for dataset in [train, val, test]:\n",
        "    dataset.drop(columns=['Area'], inplace=True)"
      ]
    },
    {
      "cell_type": "markdown",
      "metadata": {
        "id": "Oc0sPxAmyj-H"
      },
      "source": [
        "## Part 8: Running linear regression using numerical features only (including the newly created impact encoding from Part 7).  Train on the training set only, computing and printing the mean-squared-error on the validation set."
      ]
    },
    {
      "cell_type": "code",
      "execution_count": 32,
      "metadata": {
        "id": "ABbUhDoo0Wis"
      },
      "outputs": [
        {
          "name": "stdout",
          "output_type": "stream",
          "text": [
            "Train R^2 score: 0.7520632077183226\n",
            "Test R^2 score: 0.7369379113434464\n",
            "Train MSE: 481224.17484060116\n",
            "Test MSE: 415782.5267901252\n"
          ]
        }
      ],
      "source": [
        "from sklearn.linear_model import LinearRegression\n",
        "from sklearn.metrics import mean_squared_error\n",
        "test.dropna(axis=0, inplace=True)\n",
        "train.dropna(axis=0, inplace=True)\n",
        "lr = LinearRegression()\n",
        "lr.fit(train[['Bedrooms','Sq.Mt','Floor','Area_encoded']], train['Rent'])\n",
        "print (f\"Train R^2 score: {lr.score(train[['Bedrooms','Sq.Mt','Floor','Area_encoded']], train['Rent'])}\")\n",
        "print (f\"Test R^2 score: {lr.score(test[['Bedrooms','Sq.Mt','Floor','Area_encoded']], test['Rent'])}\")\n",
        "\n",
        "train['y_predicted'] = lr.predict(train[['Bedrooms','Sq.Mt','Floor','Area_encoded']])\n",
        "test['y_predicted'] = lr.predict(test[['Bedrooms','Sq.Mt','Floor','Area_encoded']])\n",
        "print (f\"Train MSE: {mean_squared_error(train['Rent'], train['y_predicted'])}\")\n",
        "print (f\"Test MSE: {mean_squared_error(test['Rent'], test['y_predicted'])}\")"
      ]
    }
  ],
  "metadata": {
    "colab": {
      "provenance": []
    },
    "kernelspec": {
      "display_name": "Python 3",
      "name": "python3"
    },
    "language_info": {
      "codemirror_mode": {
        "name": "ipython",
        "version": 3
      },
      "file_extension": ".py",
      "mimetype": "text/x-python",
      "name": "python",
      "nbconvert_exporter": "python",
      "pygments_lexer": "ipython3",
      "version": "3.11.5"
    }
  },
  "nbformat": 4,
  "nbformat_minor": 0
}
